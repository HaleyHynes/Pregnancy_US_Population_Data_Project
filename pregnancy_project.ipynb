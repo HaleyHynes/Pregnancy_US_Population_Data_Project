{
 "cells": [
  {
   "cell_type": "markdown",
   "metadata": {},
   "source": [
    "Imports"
   ]
  },
  {
   "cell_type": "code",
   "execution_count": null,
   "metadata": {},
   "outputs": [],
   "source": [
    "import pandas as pd"
   ]
  },
  {
   "cell_type": "markdown",
   "metadata": {},
   "source": [
    "For this project I want to start with loading in a\n",
    "dataframe that measures the total amount of \n",
    "pregnancies and the total amount of births in \n",
    "each state in the United States."
   ]
  },
  {
   "cell_type": "code",
   "execution_count": null,
   "metadata": {},
   "outputs": [],
   "source": [
    "df = pd.read_csv('data_files/total_pregnancies.csv')\n",
    "df.head(51)"
   ]
  },
  {
   "cell_type": "markdown",
   "metadata": {},
   "source": [
    "So there a couple problems with this Dataframe.\n",
    "1. I want to change the name of column state_id to state_abrv (x)\n",
    "2. I want to delete the first_year, last_year, footnotes, and sources columns because they are not useful to the project. (x)\n",
    "3. The measure_name column identifies what our datum column is measuring. It also measures two different variables. I want the variables split into two dataframes.\n",
    "4. I want to rename the datum column in each dataframe to \"total_births\" and \"total_pregnancies\".\n",
    "5. I want to extract the \"total_pregnancies\" column from the second data frame and combine it with the first data frame.\n",
    "6. I want to delete the measure_name column from each dataframe.\n",
    "7. I want the index of my dataframes to make the data easy to identify. The best solution is to make the state_abrv column the index.\n",
    "8. I want to move my state_name column next to my state_abrv index for clarity in grouping.\n"
   ]
  },
  {
   "cell_type": "code",
   "execution_count": null,
   "metadata": {},
   "outputs": [],
   "source": [
    "# Renaming the state_id column.\n",
    "df.rename(columns={'state_id':'state_abrv'}, inplace=True)\n",
    "# Deleting columns that are not useful.\n",
    "df.drop(columns=['first_year', 'last_year', 'footnotes', 'sources'], inplace=True)"
   ]
  }
 ],
 "metadata": {
  "kernelspec": {
   "display_name": "Python 3.10.5 64-bit (windows store)",
   "language": "python",
   "name": "python3"
  },
  "language_info": {
   "codemirror_mode": {
    "name": "ipython",
    "version": 3
   },
   "file_extension": ".py",
   "mimetype": "text/x-python",
   "name": "python",
   "nbconvert_exporter": "python",
   "pygments_lexer": "ipython3",
   "version": "3.10.5"
  },
  "orig_nbformat": 4,
  "vscode": {
   "interpreter": {
    "hash": "179c32eef508bc41e99ea19cc5567dc356affb21ff96f3185044700356fa6477"
   }
  }
 },
 "nbformat": 4,
 "nbformat_minor": 2
}
